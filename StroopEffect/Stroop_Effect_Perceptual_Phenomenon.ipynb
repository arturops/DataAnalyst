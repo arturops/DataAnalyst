{
 "cells": [
  {
   "cell_type": "markdown",
   "metadata": {},
   "source": [
    "# The Stroop Effect\n",
    "\n",
    "In this notebook, we perform an statistical test on a [dataset](./data/stroopdata.csv) from Udacity, which contains data of participants involved in a perceptual test. The name of the test is Stroop test and it know percetual phenomenon in human nature called Stroop effect.\n",
    "\n",
    "\n",
    "## Content\n",
    "\n",
    "<ul>\n",
    "<li><a href=\"#background\">Background on Stroop Effect</a></li>\n",
    "<li><a href=\"#variables\">Variables Identification</a></li>\n",
    "<li><a href=\"#hypothesis\">Hypothesis</a></li>\n",
    "<li><a href=\"#analysis\">Data Analysis</a></li>\n",
    "    <ul>\n",
    "    <li><a href=\"#descriptive\">Descriptive Statistics</a></li>\n",
    "    <li><a href=\"#eda\">Exploratory Data Analysis (EDA)</a></li>\n",
    "    <li><a href=\"#stats_test\">Statistical Test</a></li>\n",
    "        <ul>\n",
    "           <li><a href='#bootstrapping'>Boostrapping</a></li>\n",
    "           <li><a href='#t-test'>T-test</a></li>\n",
    "        </ul>\n",
    "    </ul>\n",
    "<li><a href=\"#conclusions\">Conclusions</a></li>\n",
    "<li><a href=\"#further\">Further Investigation</a></li>\n",
    "<li><a href=\"#reference\">References</a></li>\n",
    "</ul>\n"
   ]
  },
  {
   "cell_type": "markdown",
   "metadata": {},
   "source": [
    "<a id='background'></a>\n",
    "## Background on Stroop Effect \n",
    "\n",
    "\n",
    "The Stroop effect[[1](https://docs.google.com/document/d/1-OkpZLjG_kX9J6LIQ5IltsqMzVWjh36QpnP2RYpVdPU/pub?embedded=True)] is a psycological phenomenon shown in human reaction to relate concepts (words) to vision (images, colors). In order to understand such relation of concepts and images, psycologists test a participant with two lists of words, which display words in different color of ink. The participant's task is to say the color of the ink of the word shown.   \n",
    "\n",
    "The task has two scenarios with equally-size lists of words: \n",
    "1. **Congruent** words:\n",
    "Shown words are colored matching the colors in which they are displayed. _Example: <font color=\"red\">RED</font>, <font color=\"blue\">BLUE</font>._\n",
    "<p></p>\n",
    "2. **Incongruent** words: \n",
    "Shown words are colored, but this time the color of words does not match the word. Thus, the name of incongruent. _Example: <font color=\"orange\">PURPLE</font>, <font color=\"purple\">ORANGE</font>._\n",
    "\n",
    "\n",
    "For each scenario, one measures the time it takes each participant to go through all words. \n",
    "\n",
    "It is important to notice that the colored words congruent or incongruent are stimuli, while the participant's response is a reaction.\n",
    "\n",
    ">**Note:** The dataset in this notebook contains the times of participants taking a Stroop test.\n"
   ]
  },
  {
   "cell_type": "markdown",
   "metadata": {},
   "source": [
    "<a id=\"variables\"></a>\n",
    "## Variables Identification\n",
    "\n",
    "In order to start working on our statistical test and choose a hypothesis to test for, we need to define the variables we will investigate and wether if they are independent from or dependent to other factors."
   ]
  },
  {
   "cell_type": "markdown",
   "metadata": {},
   "source": [
    "Thus, we ask ourselves the questions: What is the independent variable? What is the dependent variable?"
   ]
  },
  {
   "cell_type": "markdown",
   "metadata": {},
   "source": [
    "To identify our independent and dependent variables we must ask which facts influence the outcome. In this case we know the words and colors are stimuli and the particpant's answer is a reaction. Thus, we can say that the words and its colors influence the reaction of the participant measured in time units. As a result, we can classify our variables as follow:\n",
    "\n",
    "**Independent variables**\n",
    "1. Color of word\n",
    "2. Word\n",
    "3. Person (Participant)\n",
    "\n",
    "Basically, independent variables 1 and 2 refer to our **Congruent/Incongruent** words. \n",
    "\n",
    "**Dependent variables**\n",
    "1. Time, the _reaction time_ of a participant"
   ]
  },
  {
   "cell_type": "markdown",
   "metadata": {},
   "source": [
    "<a id=\"hypothesis\"></a>\n",
    "## Hypothesis\n",
    "\n",
    "Once we identified our independent and dependent variables, we want to make a hypothesis on the outcome of our dependent variables which is the result of our test. Thus, we can ask: What is an appropriate set of hypotheses for this task?\n",
    "\n",
    "For a Stroop test, the reaction time is our tests' result and dependent variable. In fact, that is what we are interested in comparing and the purpose of having 2 scenarios on the test. We want to look at the reaction time of people in both scenarios and make conclusions on participants' reactions. Therefore, we will compare the reaction time of **Congruent** and **Incongruent** scenarios. Since we need a sample size to run to make a hypothesis test, we will need to consider the average of our times congruent and incongruent to be our parameters for the test.\n",
    "\n",
    "For the hypothesis, the traditional thinking believes that the participants' reaction time is the same or maybe even slower when they have congruent words. However, we want to challenge that idea by saying that we believe the participants' have a faster reaction time when color and words match (congruent) than when color and words do not match (incongruent). Thus, we can stablish a hypothesis as follow:"
   ]
  },
  {
   "cell_type": "markdown",
   "metadata": {},
   "source": [
    "$$H_0: \\mu_0 \\geq \\mu_1$$\n",
    "\n",
    "$$H_1: \\mu_0 < \\mu_1$$\n",
    "\n",
    "where $\\mu_0$ is the mean of the time it took people on the sample to read **congruent** words (labels consistent with color)\n",
    "\n",
    "and $\\mu_1$ is the mean of the time it took people on the sample to read **incongruent** words (labels differ from color)\n",
    "\n",
    "\n",
    "The main purpose of our hypothesis becomes to answer if we can have enough information to say that _our participants' are faster reacting to congruent words than incongruent words._"
   ]
  },
  {
   "cell_type": "markdown",
   "metadata": {},
   "source": [
    "<a id='analysis'></a>\n",
    "## Data Analysis\n",
    "\n",
    "In this section, we will concentrate on obtaining some statistics of our data and doing some exploration of it. The goal will be to perform the necessary analyses and tests to determine if we reject or show that there is not enough information to reject the null hypothesis $H_0$.\n",
    "\n",
    "<a id='descriptive'></a>\n",
    "### Descriptive Statistics\n",
    "\n",
    "First, we need to understand our data and see what kind of data we have. It is also important to check if we need to clean our dataset or if we were lucky to have gotten one dataset that was preprocessed by someone else and is clean.\n",
    "Then, we want to verify if our data is close enough to be normally distributed using descriptive statistics such as two central tendency measures (median, mean) and checking for the variability of our data ( we will need to consider the size of the sample to judge this point)."
   ]
  },
  {
   "cell_type": "code",
   "execution_count": 1,
   "metadata": {},
   "outputs": [
    {
     "name": "stderr",
     "output_type": "stream",
     "text": [
      "/Users/arturops/anaconda/envs/sdcar/lib/python3.5/site-packages/statsmodels/compat/pandas.py:56: FutureWarning: The pandas.core.datetools module is deprecated and will be removed in a future version. Please use the pandas.tseries module instead.\n",
      "  from pandas.core import datetools\n"
     ]
    }
   ],
   "source": [
    "# Packages import\n",
    "import numpy as np\n",
    "import pandas as pd\n",
    "import matplotlib.pyplot as plt\n",
    "import seaborn as sns\n",
    "import scipy.stats as stats\n",
    "import statsmodels.api as sm # for ztest only\n",
    "%matplotlib inline"
   ]
  },
  {
   "cell_type": "code",
   "execution_count": 2,
   "metadata": {},
   "outputs": [
    {
     "data": {
      "text/html": [
       "<div>\n",
       "<style>\n",
       "    .dataframe thead tr:only-child th {\n",
       "        text-align: right;\n",
       "    }\n",
       "\n",
       "    .dataframe thead th {\n",
       "        text-align: left;\n",
       "    }\n",
       "\n",
       "    .dataframe tbody tr th {\n",
       "        vertical-align: top;\n",
       "    }\n",
       "</style>\n",
       "<table border=\"1\" class=\"dataframe\">\n",
       "  <thead>\n",
       "    <tr style=\"text-align: right;\">\n",
       "      <th></th>\n",
       "      <th>Congruent</th>\n",
       "      <th>Incongruent</th>\n",
       "    </tr>\n",
       "  </thead>\n",
       "  <tbody>\n",
       "    <tr>\n",
       "      <th>0</th>\n",
       "      <td>12.079</td>\n",
       "      <td>19.278</td>\n",
       "    </tr>\n",
       "    <tr>\n",
       "      <th>1</th>\n",
       "      <td>16.791</td>\n",
       "      <td>18.741</td>\n",
       "    </tr>\n",
       "    <tr>\n",
       "      <th>2</th>\n",
       "      <td>9.564</td>\n",
       "      <td>21.214</td>\n",
       "    </tr>\n",
       "    <tr>\n",
       "      <th>3</th>\n",
       "      <td>8.630</td>\n",
       "      <td>15.687</td>\n",
       "    </tr>\n",
       "    <tr>\n",
       "      <th>4</th>\n",
       "      <td>14.669</td>\n",
       "      <td>22.803</td>\n",
       "    </tr>\n",
       "  </tbody>\n",
       "</table>\n",
       "</div>"
      ],
      "text/plain": [
       "   Congruent  Incongruent\n",
       "0     12.079       19.278\n",
       "1     16.791       18.741\n",
       "2      9.564       21.214\n",
       "3      8.630       15.687\n",
       "4     14.669       22.803"
      ]
     },
     "execution_count": 2,
     "metadata": {},
     "output_type": "execute_result"
    }
   ],
   "source": [
    "# Loading our dataset\n",
    "path = \"data/\"\n",
    "file = 'stroopdata.csv'\n",
    "df = pd.read_csv(path+file)\n",
    "df.head(5)"
   ]
  },
  {
   "cell_type": "code",
   "execution_count": 3,
   "metadata": {},
   "outputs": [
    {
     "name": "stdout",
     "output_type": "stream",
     "text": [
      "<class 'pandas.core.frame.DataFrame'>\n",
      "RangeIndex: 24 entries, 0 to 23\n",
      "Data columns (total 2 columns):\n",
      "Congruent      24 non-null float64\n",
      "Incongruent    24 non-null float64\n",
      "dtypes: float64(2)\n",
      "memory usage: 464.0 bytes\n"
     ]
    }
   ],
   "source": [
    "# Display information of the dataset\n",
    "df.info()"
   ]
  },
  {
   "cell_type": "markdown",
   "metadata": {},
   "source": [
    "This dataset seems to have been processed by our source. Thus, we will be ok to use it as it is. There is also something important on this dataset and that is the size of it. It seems a fairly small dataset of 24 samples per group (congruent and incongruent) to have a 100% accurate decision when determining if the data is normally distributed, but if the distributions get close to normal we can agree that it is close enough even with this little data.\n",
    "\n",
    "We can start by calculating the median and mean and see how far apart they are in each group"
   ]
  },
  {
   "cell_type": "code",
   "execution_count": 4,
   "metadata": {},
   "outputs": [
    {
     "name": "stdout",
     "output_type": "stream",
     "text": [
      "Congruent Mean: 14.0511\n",
      "Congruent Median: 14.3565\n",
      "\n",
      "Incongruent Mean: 22.0159\n",
      "Incongruent Median: 21.0175\n"
     ]
    }
   ],
   "source": [
    "# Checking the mean and median for both groups\n",
    "print('Congruent Mean: {:.4f}\\nCongruent Median: {:.4f}'.\n",
    "      format(df['Congruent'].mean(),df['Congruent'].median()))\n",
    "\n",
    "print('\\nIncongruent Mean: {:.4f}\\nIncongruent Median: {:.4f}'.\n",
    "      format(df['Incongruent'].mean(),df['Incongruent'].median()))"
   ]
  },
  {
   "cell_type": "markdown",
   "metadata": {},
   "source": [
    "Right away we can notice the median and the mean for both groups is very close to each other. Thus, we can say our data is close to a normal distribution. It will be good to check the 25% and 75% percentiles, minimum and maximum values to understand a little bit better our data. "
   ]
  },
  {
   "cell_type": "code",
   "execution_count": 5,
   "metadata": {},
   "outputs": [
    {
     "name": "stdout",
     "output_type": "stream",
     "text": [
      "Congruent [25%,75%] percentiles: [11.8953,16.2007]\n",
      "Congruent (min,max): (8.6300,22.3280)\n",
      "\n",
      "Incongruent [25%,75%] percentiles: [18.7168,24.0515]\n",
      "Incongruent (min,max): (15.6870,35.2550)\n"
     ]
    }
   ],
   "source": [
    "# Checking the 25% and 75% percentiles, min and max values for both groups\n",
    "p25_congruent = np.percentile(df['Congruent'],25)\n",
    "p75_congruent = np.percentile(df['Congruent'],75)\n",
    "print('Congruent [25%,75%] percentiles: [{:.4f},{:.4f}]'.format(p25_congruent,p75_congruent))\n",
    "print('Congruent (min,max): ({:.4f},{:.4f})'.format(df['Congruent'].min(), df['Congruent'].max()))\n",
    "\n",
    "p25_incongruent = np.percentile(df['Incongruent'],25)\n",
    "p75_incongruent = np.percentile(df['Incongruent'],75)\n",
    "print('\\nIncongruent [25%,75%] percentiles: [{:.4f},{:.4f}]'.format(p25_incongruent,p75_incongruent))\n",
    "print('Incongruent (min,max): ({:.4f},{:.4f})'.format(df['Incongruent'].min(), df['Incongruent'].max()))"
   ]
  },
  {
   "cell_type": "markdown",
   "metadata": {},
   "source": [
    "This data corroborates our assumption that the **congruent** group's distribution is normal as we can clearly see now that the mean and median are sitting in between the 25% and 75% percentiles. However, there is something suspicious about our **incongruent** group's distribution, apparently the mean is leaning to the 75% percentile, while the median seems centered in the between the 25% and 75% percentile. Our _incongruent data seems skewed to the right_ as $mean > median$. This might be caused by outliers since the maximum value is further away form the 75% than the minimum value from the 25% percentile. We will explore this later in a graph to make this concept clearer, but as the variance and standard deviation of both groups can tell us their variability (spread)."
   ]
  },
  {
   "cell_type": "code",
   "execution_count": 6,
   "metadata": {},
   "outputs": [
    {
     "name": "stdout",
     "output_type": "stream",
     "text": [
      "Congruent Variance: 12.6690\n",
      "Congruent Std: 3.5594\n",
      "\n",
      "Incongruent Variance: 23.0118\n",
      "Incongruent Std: 4.7971\n"
     ]
    }
   ],
   "source": [
    "# Checking the var and STD for both groups\n",
    "print('Congruent Variance: {:.4f}\\nCongruent Std: {:.4f}'.\n",
    "      format(df['Congruent'].var(),df['Congruent'].std()))\n",
    "\n",
    "print('\\nIncongruent Variance: {:.4f}\\nIncongruent Std: {:.4f}'.\n",
    "      format(df['Incongruent'].var(),df['Incongruent'].std()))"
   ]
  },
  {
   "cell_type": "markdown",
   "metadata": {},
   "source": [
    "As we expected, the **incongruent** group has a high variance and standard deviation as we believe it contains outliers that contribute to the increase in variability. The next step will be to perform an exploratory data analysis to visualize our believes."
   ]
  },
  {
   "cell_type": "markdown",
   "metadata": {},
   "source": [
    "<a id=\"eda\"></a>\n",
    "### Exploratory Data Analysis (EDA)\n",
    "\n",
    "The first thing we want to confirm is that the dataset has a normal distribution as ou descriptive statistics tells us we might have normal distributions, but also outliers in our incongruent group."
   ]
  },
  {
   "cell_type": "code",
   "execution_count": 7,
   "metadata": {},
   "outputs": [
    {
     "data": {
      "image/png": "[encoded data removed]",
      "text/plain": [
       "<matplotlib.figure.Figure at 0x1140a0080>"
      ]
     },
     "metadata": {},
     "output_type": "display_data"
    }
   ],
   "source": [
    "# Histogram and box plot of both groups\n",
    "plt.figure(figsize=(14,5))\n",
    "\n",
    "# Histogram\n",
    "plt.subplot(1,2,1)\n",
    "sns.distplot(df[\"Congruent\"], norm_hist=False,kde=False, bins=4, label = \"Congruent\")\n",
    "sns.distplot(df[\"Incongruent\"], norm_hist=False,kde=False,  bins=7, label = \"Incongruent\")\n",
    "plt.axvline(df['Congruent'].mean(),color='b',lw=3,label='Congruent mean')\n",
    "plt.axvline(df['Incongruent'].mean(),color='r',lw=3,label='Incongruent mean')\n",
    "plt.xlabel('Time')\n",
    "plt.ylabel('Frequency')\n",
    "plt.title('Histogram of Stroop Tests')\n",
    "plt.legend()\n",
    "\n",
    "# Box plot\n",
    "subplot_box =plt.subplot(1,2,2) # position of subplot\n",
    "df.plot(ax=subplot_box, kind='box')\n",
    "plt.title('Distributions of Stroop Tests')\n",
    "plt.ylabel('Time');\n"
   ]
  },
  {
   "cell_type": "markdown",
   "metadata": {},
   "source": [
    "The histogram and boxplot clearly show the incongruent group has two outliers that are shifting the mean to the right skewing the distribution to the right. The boxplot also shows that most of the samples in the incongruent group actually live between the 25% and 75% percentile, which is a good indication that the distribution is normal.\n",
    "The congruent group on the other hand has its mean centered on the highest frequency of the histogram which is as close as the mode and median it can get to indicate a normal distribution. On the box plot, however, we can notice the spread between the minimum and maximum values in the congruent group is larger than the incongruent group. This was not expected as our variance for the congruent group was smaller, but this might be an indicative that if we remove the ouliers from the incongruent group (consecuentively from the congruent group as well) we should find a smaller variance for the incongruent distribution.\n",
    "\n",
    "However, while removing outliers in one group, we might find there will be an outlier for the other group. This all will depend on our metric to remove outliers. In here, we will consider the boxplot out tool to determine of something is an outlier."
   ]
  },
  {
   "cell_type": "code",
   "execution_count": 8,
   "metadata": {},
   "outputs": [
    {
     "data": {
      "text/html": [
       "<div>\n",
       "<style>\n",
       "    .dataframe thead tr:only-child th {\n",
       "        text-align: right;\n",
       "    }\n",
       "\n",
       "    .dataframe thead th {\n",
       "        text-align: left;\n",
       "    }\n",
       "\n",
       "    .dataframe tbody tr th {\n",
       "        vertical-align: top;\n",
       "    }\n",
       "</style>\n",
       "<table border=\"1\" class=\"dataframe\">\n",
       "  <thead>\n",
       "    <tr style=\"text-align: right;\">\n",
       "      <th></th>\n",
       "      <th>Congruent</th>\n",
       "      <th>Incongruent</th>\n",
       "    </tr>\n",
       "  </thead>\n",
       "  <tbody>\n",
       "    <tr>\n",
       "      <th>14</th>\n",
       "      <td>18.200</td>\n",
       "      <td>35.255</td>\n",
       "    </tr>\n",
       "    <tr>\n",
       "      <th>19</th>\n",
       "      <td>12.369</td>\n",
       "      <td>34.288</td>\n",
       "    </tr>\n",
       "    <tr>\n",
       "      <th>10</th>\n",
       "      <td>22.328</td>\n",
       "      <td>24.524</td>\n",
       "    </tr>\n",
       "  </tbody>\n",
       "</table>\n",
       "</div>"
      ],
      "text/plain": [
       "    Congruent  Incongruent\n",
       "14     18.200       35.255\n",
       "19     12.369       34.288\n",
       "10     22.328       24.524"
      ]
     },
     "execution_count": 8,
     "metadata": {},
     "output_type": "execute_result"
    },
    {
     "data": {
      "image/png": "[encoded data removed]",
      "text/plain": [
       "<matplotlib.figure.Figure at 0x116138780>"
      ]
     },
     "metadata": {},
     "output_type": "display_data"
    }
   ],
   "source": [
    "# Removing outliers\n",
    "plt.figure(figsize=(16,5))\n",
    "\n",
    "# creating a copy of our dataset in which outliers will be removed\n",
    "df_clean = df.copy()\n",
    "\n",
    "# Removing first outlier\n",
    "sub1 = plt.subplot(1,3,1)\n",
    "outlier1 = df_clean['Incongruent'].argmax()\n",
    "df_clean = df_clean.drop([outlier1])\n",
    "df_clean.plot(ax=sub1, kind='box')\n",
    "plt.ylabel('Time')\n",
    "plt.title('First Outlier Removal (index 14)')\n",
    "\n",
    "# Removing second outlier\n",
    "sub2 = plt.subplot(1,3,2)\n",
    "outlier2 = df_clean['Incongruent'].argmax()\n",
    "df_clean = df_clean.drop([outlier2])\n",
    "df_clean.plot(ax=sub2, kind='box')\n",
    "plt.title('Second Outlier Removal (index 19)')\n",
    "\n",
    "#Removing third outlier (surprisingly found in congruent)\n",
    "sub3 = plt.subplot(1,3,3)\n",
    "outlier3 = df_clean['Congruent'].argmax()\n",
    "df_clean = df_clean.drop([outlier3])\n",
    "df_clean.plot(ax=sub3, kind='box')\n",
    "plt.title('Third Outlier Removal (index 10)');\n",
    "\n",
    "# Displaying the outliers' values\n",
    "df.loc[[outlier1,outlier2,outlier3]]"
   ]
  },
  {
   "cell_type": "markdown",
   "metadata": {},
   "source": [
    "From the boxplots we could see that when removing the first outlier, we were found that the congruent group had an outlier. Thus, the removal of two outliers became a task of removing three outliers. The process illustrated above left us with 21 samples. \n",
    "Moreover, we now can say that the incongruent group is actually closer to a normal distribution than the congruent group. This will be reflected in our descriptive statistics. \n"
   ]
  },
  {
   "cell_type": "code",
   "execution_count": 9,
   "metadata": {},
   "outputs": [
    {
     "name": "stdout",
     "output_type": "stream",
     "text": [
      "Congruent Mean: 13.5395\n",
      "Congruent Median: 14.2330\n",
      "Congruent Std: 3.1412\n",
      "\n",
      "Incongruent Mean: 20.6817\n",
      "Incongruent Median: 20.7620\n",
      "Incongruent Std: 2.8259\n"
     ]
    }
   ],
   "source": [
    "# Checking the mean, median and standard deviation for both groups\n",
    "print('Congruent Mean: {:.4f}\\nCongruent Median: {:.4f}\\nCongruent Std: {:.4f}'.\n",
    "      format(df_clean['Congruent'].mean(),df_clean['Congruent'].median(), df_clean['Congruent'].std()))\n",
    "\n",
    "print('\\nIncongruent Mean: {:.4f}\\nIncongruent Median: {:.4f}\\nIncongruent Std: {:.4f}'.\n",
    "      format(df_clean['Incongruent'].mean(),df_clean['Incongruent'].median(), df_clean['Incongruent'].std()))"
   ]
  },
  {
   "cell_type": "markdown",
   "metadata": {},
   "source": [
    "We can see that the spread (standard deviation) decreased in both groups, which is a good indication that we effectively removed the outliers. The incongruent group in particular got a mean and median almost similar indicating a normal distribution. Moreover, the standard deviation is now smaller than the congruent group which is what we expected to see. However, the congruent group now has a median and mean that are not as close as before. Here we sacrificed the separation in median and mean to gain a tighter distribution by reducing our standard deviation when we removed the congruent outlier.\n",
    "\n",
    "All in all, we now have a clean dataset which has two distributions closed to normal. This is good enough for us to move onto a hypothesis testing."
   ]
  },
  {
   "cell_type": "markdown",
   "metadata": {},
   "source": [
    "<a id=\"stats_test\"></a>\n",
    "### Statistical Test\n",
    "\n",
    "For the purpose of testing using simulation (bootstrapping) we will use math to express our hypothesis from :\n",
    "\n",
    "$$H_0: \\mu_0 \\geq \\mu_1$$\n",
    "\n",
    "$$H_1: \\mu_0 < \\mu_1$$\n",
    "\n",
    "to its equivalent: \n",
    "\n",
    "$$H_0: \\mu_0 - \\mu_1 \\geq 0$$\n",
    "\n",
    "$$H_1: \\mu_0 - \\mu_1 < 0$$\n",
    "\n",
    "Given that we already know our distributions are fairly close to normal, we are ready to use the mean as our statistic to perform our hypothesis test.\n",
    "\n",
    "The first thing we do is define our desired confidence interval and as a result the type I error threshold ($\\alpha$). In this case, we want to have a high confidence interval as this a test to understand our human reaction time in this Stroop test. Thus, we choose an interval of 99.5%, resulting in $\\alpha = 0.005$.\n"
   ]
  },
  {
   "cell_type": "code",
   "execution_count": 10,
   "metadata": {
    "scrolled": true
   },
   "outputs": [
    {
     "name": "stdout",
     "output_type": "stream",
     "text": [
      "Confidence level is 99.5%\n",
      "Type I error threshold (alpha) is 0.0050\n"
     ]
    }
   ],
   "source": [
    "confidence_level = 0.995\n",
    "alpha = 1 - confidence_level\n",
    "print('Confidence level is {}%'.format(100.0*confidence_level))\n",
    "print('Type I error threshold (alpha) is {:.4f}'.format(alpha))"
   ]
  },
  {
   "cell_type": "markdown",
   "metadata": {},
   "source": [
    "There are two options to perform the hypothesis test:\n",
    "* **Bootstrapping**. We simulate the null distribution/population and use our sample statistic to find the p-value.\n",
    "* **T-test**. We need a one-tail test(defined by our hypothesis), for this test we will use our sample dataset as T-test use the sample to approximate population's prediction. This was one of the most used tests before computers as a small sample size could be used for bigger estimations.\n",
    "\n",
    "In this notebook, we perform both approaches to prove that both of them work and result in similar conclusions.\n",
    "\n",
    "<a id='bootstrapping'></a>\n",
    "#### Bootstrapping\n",
    "\n",
    "The first thing we do for bootstrapping is to calculate our sample mean. \n",
    "\n",
    "In this case, our sample mean is $\\mu_0 - \\mu_1$"
   ]
  },
  {
   "cell_type": "code",
   "execution_count": 11,
   "metadata": {},
   "outputs": [
    {
     "name": "stdout",
     "output_type": "stream",
     "text": [
      "Dataset congruent_mean - incongruent_mean : -7.1421\n"
     ]
    }
   ],
   "source": [
    "# Calculating the mean difference from our dataset (21 samples) \n",
    "u_diff = df_clean['Congruent'].mean() - df_clean['Incongruent'].mean()\n",
    "print('Dataset congruent_mean - incongruent_mean : {:.4f}'.format(u_diff))"
   ]
  },
  {
   "cell_type": "markdown",
   "metadata": {},
   "source": [
    "Then, we sample with replace our dataset a large number of times. For every sample we do, we obtain the mean of each group and the difference of their means.\n",
    "\n",
    ">**Note:** Doing the sampling is a powerful concept as it intercepts with central limit theorem which says that the distribution of the sample mean is normal.\n",
    "\n",
    "In this case, we will use 10,000 sample means of size 5 each."
   ]
  },
  {
   "cell_type": "code",
   "execution_count": 12,
   "metadata": {},
   "outputs": [
    {
     "name": "stdout",
     "output_type": "stream",
     "text": [
      "Congruent mean: 13.5118 Congruent median: 13.5001 Congruent std: 1.3558\n",
      "\n",
      "Incongruent mean: 20.6792 Incongruent median: 20.6473 Incongruent std: 1.2436\n",
      "\n",
      "Diff mean: -7.1674 Diff median: -7.1907 Diff std: 1.4489\n"
     ]
    }
   ],
   "source": [
    "# Using bootstraping\n",
    "RESAMPLE = 10000\n",
    "\n",
    "congruent = []\n",
    "incongruent = []\n",
    "diff = []\n",
    "\n",
    "for _ in range(RESAMPLE):\n",
    "    sample_set = df_clean.sample(5, replace=True)\n",
    "    c_mean = sample_set['Congruent'].mean()\n",
    "    congruent.append(c_mean)\n",
    "    i_mean = sample_set['Incongruent'].mean()\n",
    "    incongruent.append(i_mean)\n",
    "    diff.append(c_mean - i_mean)\n",
    "\n",
    "    \n",
    "congruent = np.array(congruent)\n",
    "incongruent = np.array(incongruent)\n",
    "diff = np.array(diff)\n",
    "\n",
    "print('Congruent mean: {:.4f} Congruent median: {:.4f} Congruent std: {:.4f}'.\n",
    "      format(congruent.mean(), np.median(congruent), congruent.std()))\n",
    "\n",
    "print('\\nIncongruent mean: {:.4f} Incongruent median: {:.4f} Incongruent std: {:.4f}'.\n",
    "      format(incongruent.mean(), np.median(incongruent), incongruent.std()))\n",
    "\n",
    "print('\\nDiff mean: {:.4f} Diff median: {:.4f} Diff std: {:.4f}'.\n",
    "      format(diff.mean(), np.median(diff), diff.std())) "
   ]
  },
  {
   "cell_type": "markdown",
   "metadata": {},
   "source": [
    "After the bootstrapping, we can see that the mean for each bootstrapped statistic is very close to the sample. \n",
    "\n",
    "The next step is to visualize our results from bootstrapping using histograms."
   ]
  },
  {
   "cell_type": "code",
   "execution_count": 13,
   "metadata": {
    "scrolled": false
   },
   "outputs": [
    {
     "data": {
      "image/png": "[encoded data removed]",
      "text/plain": [
       "<matplotlib.figure.Figure at 0x11623e630>"
      ]
     },
     "metadata": {},
     "output_type": "display_data"
    },
    {
     "data": {
      "image/png": "[encoded data removed]",
      "text/plain": [
       "<matplotlib.figure.Figure at 0x1168541d0>"
      ]
     },
     "metadata": {},
     "output_type": "display_data"
    }
   ],
   "source": [
    "# Histograms of simulated bootstraped groups\n",
    "plt.figure(figsize=(12,3))\n",
    "sns.distplot(congruent, kde=False, label='Congruent')\n",
    "sns.distplot(incongruent, kde=False, label = 'Incongruent')\n",
    "plt.axvline(df_clean['Congruent'].mean(),color='b',lw=4,label='Dataset Congruent mean')\n",
    "plt.axvline(df_clean['Incongruent'].mean(),color='r',lw=4,label='Dataset Incongruent mean')\n",
    "plt.ylabel('Frequency')\n",
    "plt.xlabel('Time')\n",
    "plt.title('Histograms of Bootstraped Groups')\n",
    "plt.legend();\n",
    "\n",
    "# Histograms of simulated bootstraped groups means difference\n",
    "plt.figure(figsize=(12,3))\n",
    "sns.distplot(diff, kde=False, color='pink', label='Means Differences Dist')\n",
    "plt.axvline(u_diff,color='m',lw=4,label='Dataset Difference in means')\n",
    "plt.ylabel('Frequency')\n",
    "plt.xlabel('Time')\n",
    "plt.title('Histograms of Bootstraped Difference in Means')\n",
    "plt.legend();"
   ]
  },
  {
   "cell_type": "markdown",
   "metadata": {},
   "source": [
    "Once we visualized our bootstrapped distributions with the dataset means displayed on them, we can say that the bootstrapped distributions are representative of our dataset. Using this idea, we are able to obtain the standard deviation of our bootstrapped difference in means to simulate the null distribution centered in 0 and using the same number of samples the bootstrapped used.\n",
    "\n",
    "Then, we will plot the distribution of our null distribution and overlap the boostrapped difference in means and the dataset difference in means. The latter is the one we are ultimately interested."
   ]
  },
  {
   "cell_type": "code",
   "execution_count": 14,
   "metadata": {
    "collapsed": true
   },
   "outputs": [],
   "source": [
    "# Simulating the null distribution\n",
    "null_vals = np.random.normal(0, diff.std(), RESAMPLE)"
   ]
  },
  {
   "cell_type": "code",
   "execution_count": 15,
   "metadata": {},
   "outputs": [
    {
     "data": {
      "image/png": "[encoded data removed]",
      "text/plain": [
       "<matplotlib.figure.Figure at 0x11409d358>"
      ]
     },
     "metadata": {},
     "output_type": "display_data"
    }
   ],
   "source": [
    "# Histogram of simulated normal null distribution\n",
    "plt.figure(figsize=(12,4))\n",
    "sns.distplot(null_vals,kde=False,norm_hist=False)\n",
    "plt.axvline(u_diff,color='b',lw=8,label='Dataset difference in means')\n",
    "plt.axvline(diff.mean(),color='r',lw=3,label='Bootstrapped difference in means')\n",
    "plt.title('Simulated Null Distribution of $\\mu_0 - \\mu_1$')\n",
    "plt.xlabel('Time Difference')\n",
    "plt.ylabel('Frequency')\n",
    "plt.legend();"
   ]
  },
  {
   "cell_type": "markdown",
   "metadata": {},
   "source": [
    "From the plot, we can see our sample dataset difference in means $\\mu_0 - \\mu_1$ is far away to left on the distribution, which is already implying that such mean did not come from the null distribution with a high confidence. We will run a proper hypothesis test, but now we have an idea that most likely we expect to reject the null hypothesis.\n",
    "\n",
    "In order to do a hypothesis test using bootstrapping, we need:\n",
    "* **The null distribution** we simulated using the bootstrapping $\\mu_0 - \\mu_1$ standard deviation\n",
    "* **Sample dataset $\\mu_0 - \\mu_1$ **\n",
    "\n",
    "with the sample dataset $\\mu_0 - \\mu_1$ we can find the the p-value as a one-tailed test. We do it by finding the mean of all values in the null distribution greater or equal than the sample dataset $\\mu_0 - \\mu_1$.\n",
    "\n",
    "Then the confidence interval will be computed as 1 - p-value.\n",
    "\n",
    "Finally, we will determine if the given p-value is smaller than the type I error threshold and if we can reject the null hypothesis or we do not have enough information to do so."
   ]
  },
  {
   "cell_type": "code",
   "execution_count": 16,
   "metadata": {
    "scrolled": false
   },
   "outputs": [
    {
     "name": "stdout",
     "output_type": "stream",
     "text": [
      "Dataset 21 samples, Statistic(Diff mean): -7.1421\n",
      "Boostrapped 10000 samples, Statistic (Diff mean): -7.1674\n",
      "\n",
      "Hypothesis testing one-tail\n",
      "pval: 0.0000000000\n",
      "Confidence interval: 100.00%\n",
      "\n",
      "Reject null hypothesis ? True , pval:0.0000000000 < alpha:0.00500\n"
     ]
    }
   ],
   "source": [
    "# Bootstrapping statistical test\n",
    "print('Dataset {} samples, Statistic(Diff mean): {:.4f}'.format(df_clean.shape[0], u_diff))\n",
    "\n",
    "print('Boostrapped {} samples, Statistic (Diff mean): {:.4f}'.format(RESAMPLE, diff.mean()))\n",
    "\n",
    "print('\\nHypothesis testing one-tail')\n",
    "p_val = (u_diff >= null_vals).mean()\n",
    "confidence_interval = 1 - p_val\n",
    "print('pval: {:.10f}'.format(p_val))\n",
    "print('Confidence interval: {:.2f}%'.format(100.0*confidence_interval))\n",
    "print('\\nReject null hypothesis ? {} , pval:{:.10f} < alpha:{:.5f}'.format(p_val<alpha,p_val,alpha))"
   ]
  },
  {
   "cell_type": "markdown",
   "metadata": {},
   "source": [
    "This time we were able to reject the null hypothesis as the $p-value < \\alpha = 0.005$ and our confidence interval is > 99.5%\n",
    "\n",
    "Another way to verify this is to use a Zscore test since we got a large null distribution (samples) and a Z-test used for the population can then be used.\n",
    "\n",
    ">**Note:** Be aware that the sm.stats.proportions_ztest didn't take a negative statistic (from our sample dataset) and thus we need to make it positive and then convert the z score result back to negative \n"
   ]
  },
  {
   "cell_type": "code",
   "execution_count": 17,
   "metadata": {},
   "outputs": [
    {
     "name": "stdout",
     "output_type": "stream",
     "text": [
      "Zscore: -58.398\n",
      "p-val: 0.00000000000000000000\n"
     ]
    }
   ],
   "source": [
    "# Computing z_score and p-value\n",
    "null_dist_size = null_vals.size\n",
    "dataset_size = df_clean.shape[0]\n",
    "z_score, zpval = sm.stats.proportions_ztest([-1*u_diff, null_vals.mean()], [dataset_size, null_dist_size],\\\n",
    "                                            alternative='larger')\n",
    "\n",
    "print('Zscore: {:.3f}\\np-val: {:.20f}'.format(-1*z_score, zpval))"
   ]
  },
  {
   "cell_type": "markdown",
   "metadata": {},
   "source": [
    "The z score indicates our mean should be far away on the left with a p-value similar to the one we got above. This confirms our bootstrapping approach and that we have enough information to reject $H_0$."
   ]
  },
  {
   "cell_type": "markdown",
   "metadata": {},
   "source": [
    "<a id='t-test'></a>\n",
    "#### T-test\n",
    "\n",
    "Another way to do the hypothesis testing is through a T-test of one-tail using only our sample data.\n",
    "\n",
    ">**Note:** We used scipy ```ttest_ind()``` with unequal variance as congruent and incongruent had different variances. We also have to be aware that this function is for two-tailed test, so we need to divide the p-value by 2"
   ]
  },
  {
   "cell_type": "code",
   "execution_count": 18,
   "metadata": {
    "scrolled": false
   },
   "outputs": [
    {
     "name": "stdout",
     "output_type": "stream",
     "text": [
      "Scipy's T-test\n",
      " Statistic(Diff mean): -7.7461\n",
      " pvalue: 0.0000000009\n",
      " Confidence Interval: 100.00%\n",
      "\n",
      "Reject null hypothesis ? True , pval:0.0000000009 < alpha:0.00500\n"
     ]
    }
   ],
   "source": [
    "# Scipy statistical test (a-b) - two tails :/\n",
    "sp_tstat, sp_pval = stats.ttest_ind(a=df_clean['Congruent'], b=df_clean['Incongruent'], equal_var=False)\n",
    "sp_pval/=2 #divide pvalue by two because ttest_ind is a two-tailed test\n",
    "\n",
    "print('Scipy\\'s T-test\\n Statistic(Diff mean): {:.4f}\\n pvalue: {:.10f}\\n Confidence Interval: {:.2f}%'.\n",
    "      format(sp_tstat, sp_pval, 100.0*(1-sp_pval)))\n",
    "print('\\nReject null hypothesis ? {} , pval:{:.10f} < alpha:{:.5f}'.format(sp_pval<alpha,sp_pval,alpha))"
   ]
  },
  {
   "cell_type": "markdown",
   "metadata": {},
   "source": [
    "In this t-test we also found that we have an approximate 100% confidence interval and that our p-value is smaller than alpha. Thus, we have enough information to reject the null hypothesis. \n",
    "\n",
    ">**Note:** The p-value and the statistic we use have different values than the bootstrapping analysis. This is due to the fact that a t-test is using only the sample data (not population which is what bootstrapping simulates). Thus, there are different equations to calculate the t statistic and that leads to a different p-value.\n",
    "\n",
    "In order to prove that our statistic is correct for the t-test we can use the equation for t-test statistic with unequal variance:\n",
    "\n",
    "$$t = \\frac{\\bar{x_0}-\\bar{x_1}}{\\sqrt{\\frac{s^{2}_0}{n_0}+\\frac{s^{2}_1}{n_1}}}$$\n"
   ]
  },
  {
   "cell_type": "code",
   "execution_count": 19,
   "metadata": {},
   "outputs": [
    {
     "name": "stdout",
     "output_type": "stream",
     "text": [
      "T-test statistic: -7.7461\n"
     ]
    }
   ],
   "source": [
    "n1 = df_clean['Congruent'].shape[0]\n",
    "n2 = df_clean['Incongruent'].shape[0]\n",
    "t_s = np.sqrt(df_clean['Congruent'].var()/n1 + df_clean['Incongruent'].var()/n2)\n",
    "t_diff = u_diff/t_s\n",
    "print(\"T-test statistic: {:.4f}\".format(t_diff))"
   ]
  },
  {
   "cell_type": "markdown",
   "metadata": {},
   "source": [
    "After implementing the equation above we can see it matches the t-statistic that scipy used to compute our p-value. This lead us to conclude that it was done as expected. "
   ]
  },
  {
   "cell_type": "markdown",
   "metadata": {},
   "source": [
    "In both cases using bootstrapping and t-test, the pval < 0.005 which was our $\\alpha$ threshold for a Type I error. Thus we have enough information to reject the null hypothesis."
   ]
  },
  {
   "cell_type": "markdown",
   "metadata": {},
   "source": [
    "<a id=\"conclusions\"></a>\n",
    "## Conclusions"
   ]
  },
  {
   "cell_type": "markdown",
   "metadata": {},
   "source": [
    "The null hypothesis ($H_0$) of our problem is that the reaction time of participants in the Stroop test was greater or equal for congruent words (words colored as their label, e.g. <font color='green'>GREEN</font>, <font color='blue'>BLUE</font>) than for incongruent words (words colored different than their label, e.g. <font color='red'>GREEN</font>, <font color='cyan'>PINK</font>). However, we challenged this idea proposing an alternative hypothesis saying that the reaction time for congruent words was faster than for incongruent words. During our hypothesis test, we decided to choose a confidence level of 99.5% resulting in a type I error threshold of $\\alpha = 0.005$. After our hypothesis test using bootstrapping and t-test one-tail test with unequal variance we got a $pvalue < \\alpha$. Since the pvalue was smaller than $\\alpha$ we got enough information to reject $H_0$ and conclude that based on our test we have more than 99.5% confidence that the participants have a faster reaction time when going through all the congruent words than when doing the same for incongruent words. This is in fact something we expected because we believed that having color not matching the words make us think more about what we see and what it means. We believe we will need to think more before speaking when looking at incongruent words. In other words, the Stroop effect is indeed interferes people’s reaction time on a task when reading incogruent words."
   ]
  },
  {
   "cell_type": "markdown",
   "metadata": {},
   "source": [
    "<a id=\"further\"></a>\n",
    "## Further Investigation"
   ]
  },
  {
   "cell_type": "markdown",
   "metadata": {},
   "source": [
    "(6) Optional: What do you think is responsible for the effects observed? Can you think of an alternative or similar task that would result in a similar effect? Some research about the problem will be helpful for thinking about these two questions!"
   ]
  },
  {
   "cell_type": "markdown",
   "metadata": {},
   "source": []
  },
  {
   "cell_type": "markdown",
   "metadata": {},
   "source": [
    "## References\n",
    "\n",
    "[1] Statistics: The Science of Decisions Project Instructions.[https://docs.google.com/document/d/1-OkpZLjG_kX9J6LIQ5IltsqMzVWjh36QpnP2RYpVdPU/pub?embedded=True](https://docs.google.com/document/d/1-OkpZLjG_kX9J6LIQ5IltsqMzVWjh36QpnP2RYpVdPU/pub?embedded=True)\n",
    "\n",
    "[2] Hypothesis Test. Kang,Eugine. [https://medium.com/@kangeugine/hypothesis-test-21795f788f7d](https://medium.com/@kangeugine/hypothesis-test-21795f788f7d) \n",
    "\n",
    "[3] T-test table. [https://www2.palomar.edu/users/rmorrissette/Lectures/Stats/ttests/ttests.htm](https://www2.palomar.edu/users/rmorrissette/Lectures/Stats/ttests/ttests.htm)"
   ]
  },
  {
   "cell_type": "code",
   "execution_count": null,
   "metadata": {
    "collapsed": true
   },
   "outputs": [],
   "source": []
  }
 ],
 "metadata": {
  "kernelspec": {
   "display_name": "Python 3",
   "language": "python",
   "name": "python3"
  },
  "language_info": {
   "codemirror_mode": {
    "name": "ipython",
    "version": 3
   },
   "file_extension": ".py",
   "mimetype": "text/x-python",
   "name": "python",
   "nbconvert_exporter": "python",
   "pygments_lexer": "ipython3",
   "version": "3.5.2"
  },
  "widgets": {
   "state": {},
   "version": "1.1.2"
  }
 },
 "nbformat": 4,
 "nbformat_minor": 2
}
